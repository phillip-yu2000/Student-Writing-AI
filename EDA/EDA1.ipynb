{
 "cells": [
  {
   "cell_type": "code",
   "execution_count": 1,
   "metadata": {},
   "outputs": [],
   "source": [
    "import pandas as pd \n",
    "import numpy as np \n",
    "import matplotlib.pyplot as plt \n"
   ]
  },
  {
   "cell_type": "code",
   "execution_count": 10,
   "metadata": {},
   "outputs": [],
   "source": [
    "train_NER = pd.read_csv('../preprocessed/train_NER.csv')"
   ]
  },
  {
   "cell_type": "code",
   "execution_count": 27,
   "metadata": {},
   "outputs": [
    {
     "data": {
      "text/html": [
       "<div>\n",
       "<style scoped>\n",
       "    .dataframe tbody tr th:only-of-type {\n",
       "        vertical-align: middle;\n",
       "    }\n",
       "\n",
       "    .dataframe tbody tr th {\n",
       "        vertical-align: top;\n",
       "    }\n",
       "\n",
       "    .dataframe thead th {\n",
       "        text-align: right;\n",
       "    }\n",
       "</style>\n",
       "<table border=\"1\" class=\"dataframe\">\n",
       "  <thead>\n",
       "    <tr style=\"text-align: right;\">\n",
       "      <th></th>\n",
       "      <th>id</th>\n",
       "      <th>discourse_id</th>\n",
       "      <th>discourse_start</th>\n",
       "      <th>discourse_end</th>\n",
       "      <th>discourse_text</th>\n",
       "      <th>discourse_type</th>\n",
       "      <th>discourse_type_num</th>\n",
       "      <th>predictionstring</th>\n",
       "      <th>full_text</th>\n",
       "    </tr>\n",
       "  </thead>\n",
       "  <tbody>\n",
       "    <tr>\n",
       "      <th>0</th>\n",
       "      <td>423A1CA112E2</td>\n",
       "      <td>1.622628e+12</td>\n",
       "      <td>8.0</td>\n",
       "      <td>229.0</td>\n",
       "      <td>Modern humans today are always on their phone....</td>\n",
       "      <td>Lead</td>\n",
       "      <td>Lead 1</td>\n",
       "      <td>1 2 3 4 5 6 7 8 9 10 11 12 13 14 15 16 17 18 1...</td>\n",
       "      <td>Modern humans today are always on their phone....</td>\n",
       "    </tr>\n",
       "    <tr>\n",
       "      <th>1</th>\n",
       "      <td>423A1CA112E2</td>\n",
       "      <td>1.622628e+12</td>\n",
       "      <td>230.0</td>\n",
       "      <td>312.0</td>\n",
       "      <td>They are some really bad consequences when stu...</td>\n",
       "      <td>Position</td>\n",
       "      <td>Position 1</td>\n",
       "      <td>45 46 47 48 49 50 51 52 53 54 55 56 57 58 59</td>\n",
       "      <td>Modern humans today are always on their phone....</td>\n",
       "    </tr>\n",
       "    <tr>\n",
       "      <th>2</th>\n",
       "      <td>423A1CA112E2</td>\n",
       "      <td>1.622628e+12</td>\n",
       "      <td>313.0</td>\n",
       "      <td>401.0</td>\n",
       "      <td>Some certain areas in the United States ban ph...</td>\n",
       "      <td>Evidence</td>\n",
       "      <td>Evidence 1</td>\n",
       "      <td>60 61 62 63 64 65 66 67 68 69 70 71 72 73 74 75</td>\n",
       "      <td>Modern humans today are always on their phone....</td>\n",
       "    </tr>\n",
       "    <tr>\n",
       "      <th>3</th>\n",
       "      <td>423A1CA112E2</td>\n",
       "      <td>1.622628e+12</td>\n",
       "      <td>402.0</td>\n",
       "      <td>758.0</td>\n",
       "      <td>When people have phones, they know about certa...</td>\n",
       "      <td>Evidence</td>\n",
       "      <td>Evidence 2</td>\n",
       "      <td>76 77 78 79 80 81 82 83 84 85 86 87 88 89 90 9...</td>\n",
       "      <td>Modern humans today are always on their phone....</td>\n",
       "    </tr>\n",
       "    <tr>\n",
       "      <th>4</th>\n",
       "      <td>423A1CA112E2</td>\n",
       "      <td>1.622628e+12</td>\n",
       "      <td>759.0</td>\n",
       "      <td>886.0</td>\n",
       "      <td>Driving is one of the way how to get around. P...</td>\n",
       "      <td>Claim</td>\n",
       "      <td>Claim 1</td>\n",
       "      <td>139 140 141 142 143 144 145 146 147 148 149 15...</td>\n",
       "      <td>Modern humans today are always on their phone....</td>\n",
       "    </tr>\n",
       "  </tbody>\n",
       "</table>\n",
       "</div>"
      ],
      "text/plain": [
       "             id  discourse_id  discourse_start  discourse_end  \\\n",
       "0  423A1CA112E2  1.622628e+12              8.0          229.0   \n",
       "1  423A1CA112E2  1.622628e+12            230.0          312.0   \n",
       "2  423A1CA112E2  1.622628e+12            313.0          401.0   \n",
       "3  423A1CA112E2  1.622628e+12            402.0          758.0   \n",
       "4  423A1CA112E2  1.622628e+12            759.0          886.0   \n",
       "\n",
       "                                      discourse_text discourse_type  \\\n",
       "0  Modern humans today are always on their phone....           Lead   \n",
       "1  They are some really bad consequences when stu...       Position   \n",
       "2  Some certain areas in the United States ban ph...       Evidence   \n",
       "3  When people have phones, they know about certa...       Evidence   \n",
       "4  Driving is one of the way how to get around. P...          Claim   \n",
       "\n",
       "  discourse_type_num                                   predictionstring  \\\n",
       "0             Lead 1  1 2 3 4 5 6 7 8 9 10 11 12 13 14 15 16 17 18 1...   \n",
       "1         Position 1       45 46 47 48 49 50 51 52 53 54 55 56 57 58 59   \n",
       "2         Evidence 1    60 61 62 63 64 65 66 67 68 69 70 71 72 73 74 75   \n",
       "3         Evidence 2  76 77 78 79 80 81 82 83 84 85 86 87 88 89 90 9...   \n",
       "4            Claim 1  139 140 141 142 143 144 145 146 147 148 149 15...   \n",
       "\n",
       "                                           full_text  \n",
       "0  Modern humans today are always on their phone....  \n",
       "1  Modern humans today are always on their phone....  \n",
       "2  Modern humans today are always on their phone....  \n",
       "3  Modern humans today are always on their phone....  \n",
       "4  Modern humans today are always on their phone....  "
      ]
     },
     "execution_count": 27,
     "metadata": {},
     "output_type": "execute_result"
    }
   ],
   "source": [
    "data = pd.read_csv('../feedback-prize-2021/train.csv')\n",
    "full_text = data.groupby('id')['discourse_text'].transform(lambda x: ' '.join(x))\n",
    "full_text.rename('full_text', inplace=True)\n",
    "test = data.merge(full_text, left_index = True, right_index=True)\n",
    "test.head()"
   ]
  },
  {
   "cell_type": "code",
   "execution_count": 36,
   "metadata": {},
   "outputs": [],
   "source": [
    "test = test.drop_duplicates(subset='id')[['id', 'full_text']].reset_index(drop=True)"
   ]
  },
  {
   "cell_type": "code",
   "execution_count": 35,
   "metadata": {},
   "outputs": [
    {
     "data": {
      "text/html": [
       "<div>\n",
       "<style scoped>\n",
       "    .dataframe tbody tr th:only-of-type {\n",
       "        vertical-align: middle;\n",
       "    }\n",
       "\n",
       "    .dataframe tbody tr th {\n",
       "        vertical-align: top;\n",
       "    }\n",
       "\n",
       "    .dataframe thead th {\n",
       "        text-align: right;\n",
       "    }\n",
       "</style>\n",
       "<table border=\"1\" class=\"dataframe\">\n",
       "  <thead>\n",
       "    <tr style=\"text-align: right;\">\n",
       "      <th></th>\n",
       "      <th>id</th>\n",
       "      <th>discourse_id</th>\n",
       "      <th>discourse_start</th>\n",
       "      <th>discourse_end</th>\n",
       "      <th>discourse_text</th>\n",
       "      <th>discourse_type</th>\n",
       "      <th>discourse_type_num</th>\n",
       "      <th>predictionstring</th>\n",
       "      <th>full_text</th>\n",
       "    </tr>\n",
       "  </thead>\n",
       "  <tbody>\n",
       "    <tr>\n",
       "      <th>0</th>\n",
       "      <td>423A1CA112E2</td>\n",
       "      <td>1.622628e+12</td>\n",
       "      <td>8.0</td>\n",
       "      <td>229.0</td>\n",
       "      <td>Modern humans today are always on their phone....</td>\n",
       "      <td>Lead</td>\n",
       "      <td>Lead 1</td>\n",
       "      <td>1 2 3 4 5 6 7 8 9 10 11 12 13 14 15 16 17 18 1...</td>\n",
       "      <td>Modern humans today are always on their phone....</td>\n",
       "    </tr>\n",
       "    <tr>\n",
       "      <th>1</th>\n",
       "      <td>423A1CA112E2</td>\n",
       "      <td>1.622628e+12</td>\n",
       "      <td>230.0</td>\n",
       "      <td>312.0</td>\n",
       "      <td>They are some really bad consequences when stu...</td>\n",
       "      <td>Position</td>\n",
       "      <td>Position 1</td>\n",
       "      <td>45 46 47 48 49 50 51 52 53 54 55 56 57 58 59</td>\n",
       "      <td>Modern humans today are always on their phone....</td>\n",
       "    </tr>\n",
       "    <tr>\n",
       "      <th>2</th>\n",
       "      <td>423A1CA112E2</td>\n",
       "      <td>1.622628e+12</td>\n",
       "      <td>313.0</td>\n",
       "      <td>401.0</td>\n",
       "      <td>Some certain areas in the United States ban ph...</td>\n",
       "      <td>Evidence</td>\n",
       "      <td>Evidence 1</td>\n",
       "      <td>60 61 62 63 64 65 66 67 68 69 70 71 72 73 74 75</td>\n",
       "      <td>Modern humans today are always on their phone....</td>\n",
       "    </tr>\n",
       "    <tr>\n",
       "      <th>3</th>\n",
       "      <td>423A1CA112E2</td>\n",
       "      <td>1.622628e+12</td>\n",
       "      <td>402.0</td>\n",
       "      <td>758.0</td>\n",
       "      <td>When people have phones, they know about certa...</td>\n",
       "      <td>Evidence</td>\n",
       "      <td>Evidence 2</td>\n",
       "      <td>76 77 78 79 80 81 82 83 84 85 86 87 88 89 90 9...</td>\n",
       "      <td>Modern humans today are always on their phone....</td>\n",
       "    </tr>\n",
       "    <tr>\n",
       "      <th>4</th>\n",
       "      <td>423A1CA112E2</td>\n",
       "      <td>1.622628e+12</td>\n",
       "      <td>759.0</td>\n",
       "      <td>886.0</td>\n",
       "      <td>Driving is one of the way how to get around. P...</td>\n",
       "      <td>Claim</td>\n",
       "      <td>Claim 1</td>\n",
       "      <td>139 140 141 142 143 144 145 146 147 148 149 15...</td>\n",
       "      <td>Modern humans today are always on their phone....</td>\n",
       "    </tr>\n",
       "    <tr>\n",
       "      <th>...</th>\n",
       "      <td>...</td>\n",
       "      <td>...</td>\n",
       "      <td>...</td>\n",
       "      <td>...</td>\n",
       "      <td>...</td>\n",
       "      <td>...</td>\n",
       "      <td>...</td>\n",
       "      <td>...</td>\n",
       "      <td>...</td>\n",
       "    </tr>\n",
       "    <tr>\n",
       "      <th>144288</th>\n",
       "      <td>4C471936CD75</td>\n",
       "      <td>1.618153e+12</td>\n",
       "      <td>2234.0</td>\n",
       "      <td>3203.0</td>\n",
       "      <td>if I'm not sure what college I want to attend...</td>\n",
       "      <td>Evidence</td>\n",
       "      <td>Evidence 2</td>\n",
       "      <td>386 387 388 389 390 391 392 393 394 395 396 39...</td>\n",
       "      <td>In ancient times, and also still today in some...</td>\n",
       "    </tr>\n",
       "    <tr>\n",
       "      <th>144289</th>\n",
       "      <td>4C471936CD75</td>\n",
       "      <td>1.618153e+12</td>\n",
       "      <td>3221.0</td>\n",
       "      <td>4509.0</td>\n",
       "      <td>seeking multiple opinions before making a har...</td>\n",
       "      <td>Evidence</td>\n",
       "      <td>Evidence 3</td>\n",
       "      <td>576 577 578 579 580 581 582 583 584 585 586 58...</td>\n",
       "      <td>In ancient times, and also still today in some...</td>\n",
       "    </tr>\n",
       "    <tr>\n",
       "      <th>144290</th>\n",
       "      <td>4C471936CD75</td>\n",
       "      <td>1.618025e+12</td>\n",
       "      <td>4510.0</td>\n",
       "      <td>4570.0</td>\n",
       "      <td>it is better to seek multiple opinions instead...</td>\n",
       "      <td>Position</td>\n",
       "      <td>Position 1</td>\n",
       "      <td>828 829 830 831 832 833 834 835 836 837 838</td>\n",
       "      <td>In ancient times, and also still today in some...</td>\n",
       "    </tr>\n",
       "    <tr>\n",
       "      <th>144291</th>\n",
       "      <td>4C471936CD75</td>\n",
       "      <td>1.618025e+12</td>\n",
       "      <td>4570.0</td>\n",
       "      <td>4922.0</td>\n",
       "      <td>The impact of asking people to help you make a...</td>\n",
       "      <td>Evidence</td>\n",
       "      <td>Evidence 4</td>\n",
       "      <td>839 840 841 842 843 844 845 846 847 848 849 85...</td>\n",
       "      <td>In ancient times, and also still today in some...</td>\n",
       "    </tr>\n",
       "    <tr>\n",
       "      <th>144292</th>\n",
       "      <td>4C471936CD75</td>\n",
       "      <td>1.618025e+12</td>\n",
       "      <td>4935.0</td>\n",
       "      <td>5825.0</td>\n",
       "      <td>there are many other reasons one might want to...</td>\n",
       "      <td>Concluding Statement</td>\n",
       "      <td>Concluding Statement 1</td>\n",
       "      <td>905 906 907 908 909 910 911 912 913 914 915 91...</td>\n",
       "      <td>In ancient times, and also still today in some...</td>\n",
       "    </tr>\n",
       "  </tbody>\n",
       "</table>\n",
       "<p>144293 rows × 9 columns</p>\n",
       "</div>"
      ],
      "text/plain": [
       "                  id  discourse_id  discourse_start  discourse_end  \\\n",
       "0       423A1CA112E2  1.622628e+12              8.0          229.0   \n",
       "1       423A1CA112E2  1.622628e+12            230.0          312.0   \n",
       "2       423A1CA112E2  1.622628e+12            313.0          401.0   \n",
       "3       423A1CA112E2  1.622628e+12            402.0          758.0   \n",
       "4       423A1CA112E2  1.622628e+12            759.0          886.0   \n",
       "...              ...           ...              ...            ...   \n",
       "144288  4C471936CD75  1.618153e+12           2234.0         3203.0   \n",
       "144289  4C471936CD75  1.618153e+12           3221.0         4509.0   \n",
       "144290  4C471936CD75  1.618025e+12           4510.0         4570.0   \n",
       "144291  4C471936CD75  1.618025e+12           4570.0         4922.0   \n",
       "144292  4C471936CD75  1.618025e+12           4935.0         5825.0   \n",
       "\n",
       "                                           discourse_text  \\\n",
       "0       Modern humans today are always on their phone....   \n",
       "1       They are some really bad consequences when stu...   \n",
       "2       Some certain areas in the United States ban ph...   \n",
       "3       When people have phones, they know about certa...   \n",
       "4       Driving is one of the way how to get around. P...   \n",
       "...                                                   ...   \n",
       "144288   if I'm not sure what college I want to attend...   \n",
       "144289   seeking multiple opinions before making a har...   \n",
       "144290  it is better to seek multiple opinions instead...   \n",
       "144291  The impact of asking people to help you make a...   \n",
       "144292  there are many other reasons one might want to...   \n",
       "\n",
       "              discourse_type      discourse_type_num  \\\n",
       "0                       Lead                  Lead 1   \n",
       "1                   Position              Position 1   \n",
       "2                   Evidence              Evidence 1   \n",
       "3                   Evidence              Evidence 2   \n",
       "4                      Claim                 Claim 1   \n",
       "...                      ...                     ...   \n",
       "144288              Evidence              Evidence 2   \n",
       "144289              Evidence              Evidence 3   \n",
       "144290              Position              Position 1   \n",
       "144291              Evidence              Evidence 4   \n",
       "144292  Concluding Statement  Concluding Statement 1   \n",
       "\n",
       "                                         predictionstring  \\\n",
       "0       1 2 3 4 5 6 7 8 9 10 11 12 13 14 15 16 17 18 1...   \n",
       "1            45 46 47 48 49 50 51 52 53 54 55 56 57 58 59   \n",
       "2         60 61 62 63 64 65 66 67 68 69 70 71 72 73 74 75   \n",
       "3       76 77 78 79 80 81 82 83 84 85 86 87 88 89 90 9...   \n",
       "4       139 140 141 142 143 144 145 146 147 148 149 15...   \n",
       "...                                                   ...   \n",
       "144288  386 387 388 389 390 391 392 393 394 395 396 39...   \n",
       "144289  576 577 578 579 580 581 582 583 584 585 586 58...   \n",
       "144290        828 829 830 831 832 833 834 835 836 837 838   \n",
       "144291  839 840 841 842 843 844 845 846 847 848 849 85...   \n",
       "144292  905 906 907 908 909 910 911 912 913 914 915 91...   \n",
       "\n",
       "                                                full_text  \n",
       "0       Modern humans today are always on their phone....  \n",
       "1       Modern humans today are always on their phone....  \n",
       "2       Modern humans today are always on their phone....  \n",
       "3       Modern humans today are always on their phone....  \n",
       "4       Modern humans today are always on their phone....  \n",
       "...                                                   ...  \n",
       "144288  In ancient times, and also still today in some...  \n",
       "144289  In ancient times, and also still today in some...  \n",
       "144290  In ancient times, and also still today in some...  \n",
       "144291  In ancient times, and also still today in some...  \n",
       "144292  In ancient times, and also still today in some...  \n",
       "\n",
       "[144293 rows x 9 columns]"
      ]
     },
     "execution_count": 35,
     "metadata": {},
     "output_type": "execute_result"
    }
   ],
   "source": [
    "test[test.id == '']"
   ]
  },
  {
   "cell_type": "code",
   "execution_count": 23,
   "metadata": {},
   "outputs": [
    {
     "data": {
      "text/plain": [
       "'160 161 162 163 164 165 166 167 168 169 170 171 172 173 174 175 176 177 178 179 180 181 182 183 184 185 186 187 188 189 190 191 192 193 194 195 196 197 198 199 200 201 202 203 204 205 206 207 208 209 210 211 212 213 214 215 216 217 218 219 220 221 222'"
      ]
     },
     "execution_count": 23,
     "metadata": {},
     "output_type": "execute_result"
    }
   ],
   "source": [
    "example = data[data.id == 'C647D6659C92']\n",
    "example.iloc[-1].predictionstring"
   ]
  },
  {
   "cell_type": "code",
   "execution_count": 38,
   "metadata": {},
   "outputs": [
    {
     "name": "stdout",
     "output_type": "stream",
     "text": [
      "223\n"
     ]
    }
   ],
   "source": [
    "split = test[test.id == 'C647D6659C92'].full_text.iloc[0].split()\n",
    "print(split.__len__())"
   ]
  },
  {
   "cell_type": "code",
   "execution_count": 25,
   "metadata": {},
   "outputs": [
    {
     "data": {
      "text/plain": [
       "223"
      ]
     },
     "execution_count": 25,
     "metadata": {},
     "output_type": "execute_result"
    }
   ],
   "source": [
    "len(split)"
   ]
  },
  {
   "cell_type": "code",
   "execution_count": 21,
   "metadata": {},
   "outputs": [
    {
     "data": {
      "text/plain": [
       "223"
      ]
     },
     "execution_count": 21,
     "metadata": {},
     "output_type": "execute_result"
    }
   ],
   "source": [
    "\n",
    "['Why', 'seeking', 'multiple', 'opinions', 'can', 'help', 'someone', 'make', 'a', 'better', 'choice.', 'theyÃ', 'â\\x80¢e', 'good', 'choices', 'a', 'person', 'could', 'give', 'you', 'a', 'good', 'choice,', 'a', 'person', 'can', 'give', 'you', 'a', 'good', 'choice', 'because', 'that', 'something', 'they', 'would', 'do,', 'or', 'a', 'person', 'could', 'give', 'you', 'a', 'choice', 'that', 'will', 'help', 'you', 'in', 'the', 'future.', 'TheyÃ', 'â\\x80¢e', 'also', 'bad', 'choices', 'in', 'some', 'opinions.A', 'person', 'can', 'say', 'do', 'the', 'wrong', 'choice,', 'a', 'person', 'can', 'say', 'a', 'bad', 'choice', 'they', 'would', 'have', 'did', 'in', 'the', 'situation,', 'or', 'person', 'could', 'just', 'give', 'you', 'a', 'bad', 'choice', 'that', 'will', 'harm', 'you', 'in', 'the', 'future.', 'And', 'they', 'are', 'choices', 'you', 'donÃ\\x82Â´t', 'know', 'about', 'if', 'it', 'a', 'good', 'or', 'bad', 'choice.', 'A', 'person', 'could', 'just', 'tell', 'you', 'a', 'choice', 'you', 'donÃ\\x82Â´t', 'know', 'about,', 'a', 'person', 'can', 'give', 'you', 'advice', 'some', 'they', 'wouldÃ\\x82Â´ve', 'done', 'in', 'the', 'situation,', 'or', 'a', 'person', 'can', 'give', 'you', 'a', 'choice', 'you', 'donÃ\\x82Â´t', 'know', 'what', 'will', 'happen', 'in', 'the', 'future', 'if', 'you', 'use', 'the', 'choice.', 'why', 'seeking', 'multiple', 'opinions', 'can', 'help', 'someone', 'make', 'a', 'better', 'choice.', 'A', 'good', 'choice', 'help', 'someone', 'make', 'the', 'right', 'choice.', 'A', 'bad', 'choice', 'could', 'harm', 'th', 'eperson', 'in', 'the', 'future.', 'And', 'theyÃ\\x82Â´re', 'also', 'some', 'choices', 'you', 'donÃ\\x82Â´t', 'know', 'if', 'it', 'a', 'good', 'or', 'bad', 'choice.', 'And', 'at', 'the', 'end', 'of', 'the', 'day', 'the', 'person', 'always', 'make', 'the', 'choice', 'if', 'it', 'good', 'or', 'bad.'].__len__()\n",
    "['Why', 'seeking', 'multiple', 'opinions', 'can', 'help', 'someone', 'make', 'a', 'better', 'choice.', 'theyÃ', 'â\\x80¢e', 'good', 'choices', 'a', 'person', 'could', 'give', 'you', 'a', 'good', 'choice,', 'a', 'person', 'can', 'give', 'you', 'a', 'good', 'choice', 'because', 'that', 'something', 'they', 'would', 'do,', 'or', 'a', 'person', 'could', 'give', 'you', 'a', 'choice', 'that', 'will', 'help', 'you', 'in', 'the', 'future.', 'TheyÃ', 'â\\x80¢e', 'also', 'bad', 'choices', 'in', 'some', 'opinions.', 'A', 'person', 'can', 'say', 'do', 'the', 'wrong', 'choice,', 'a', 'person', 'can', 'say', 'a', 'bad', 'choice', 'they', 'would', 'have', 'did', 'in', 'the', 'situation,', 'or', 'person', 'could', 'just', 'give', 'you', 'a', 'bad', 'choice', 'that', 'will', 'harm', 'you', 'in', 'the', 'future.', 'And', 'they', 'are', 'choices', 'you', 'donÃ\\x82Â´t', 'know', 'about', 'if', 'it', 'a', 'good', 'or', 'bad', 'choice.', 'A', 'person', 'could', 'just', 'tell', 'you', 'a', 'choice', 'you', 'donÃ\\x82Â´t', 'know', 'about,', 'a', 'person', 'can', 'give', 'you', 'advice', 'some', 'they', 'wouldÃ\\x82Â´ve', 'done', 'in', 'the', 'situation,', 'or', 'a', 'person', 'can', 'give', 'you', 'a', 'choice', 'you', 'donÃ\\x82Â´t', 'know', 'what', 'will', 'happen', 'in', 'the', 'future', 'if', 'you', 'use', 'the', 'choice.', 'why', 'seeking', 'multiple', 'opinions', 'can', 'help', 'someone', 'make', 'a', 'better', 'choice.', 'A', 'good', 'choice', 'help', 'someone', 'make', 'the', 'right', 'choice.', 'A', 'bad', 'choice', 'could', 'harm', 'th', 'eperson', 'in', 'the', 'future.', 'And', 'theyÃ\\x82Â´re', 'also', 'some', 'choices', 'you', 'donÃ\\x82Â´t', 'know', 'if', 'it', 'a', 'good', 'or', 'bad', 'choice.', 'And', 'at', 'the', 'end', 'of', 'the', 'day', 'the', 'person', 'always', 'make', 'the', 'choice', 'if', 'it', 'good', 'or', 'bad.'].__len__()"
   ]
  },
  {
   "cell_type": "code",
   "execution_count": 42,
   "metadata": {},
   "outputs": [
    {
     "data": {
      "text/plain": [
       "223"
      ]
     },
     "execution_count": 42,
     "metadata": {},
     "output_type": "execute_result"
    }
   ],
   "source": [
    "['Why', 'seeking', 'multiple', 'opinions', 'can', 'help', 'someone', 'make', 'a', 'better', 'choice.', 'theyÃƒÂ…Ã¢Â€Â¢e', 'good', 'choices', 'a', 'person', 'could', 'give', 'you', 'a', 'good', 'choice,', 'a', 'person', 'can', 'give', 'you', 'a', 'good', 'choice', 'because', 'that', 'something', 'they', 'would', 'do,', 'or', 'a', 'person', 'could', 'give', 'you', 'a', 'choice', 'that', 'will', 'help', 'you', 'in', 'the', 'future.', 'TheyÃƒÂ…Ã¢Â€Â¢e', 'also', 'bad', 'choices', 'in', 'some', 'opinions.', 'A', 'person', 'can', 'say', 'do', 'the', 'wrong', 'choice,', 'a', 'person', 'can', 'say', 'a', 'bad', 'choice', 'they', 'would', 'have', 'did', 'in', 'the', 'situation,', 'or', 'person', 'could', 'just', 'give', 'you', 'a', 'bad', 'choice', 'that', 'will', 'harm', 'you', 'in', 'the', 'future.', 'And', 'they', 'are', 'choices', 'you', 'donÃƒÂ‚Ã‚Â´t', 'know', 'about', 'if', 'it', 'a', 'good', 'or', 'bad', 'choice.', 'A', 'person', 'could', 'just', 'tell', 'you', 'a', 'choice', 'you', 'donÃƒÂ‚Ã‚Â´t', 'know', 'about,', 'a', 'person', 'can', 'give', 'you', 'advice', 'some', 'they', 'wouldÃƒÂ‚Ã‚Â´ve', 'done', 'in', 'the', 'situation,', 'or', 'a', 'person', 'can', 'give', 'you', 'a', 'choice', 'you', 'donÃƒÂ‚Ã‚Â´t', 'know', 'what', 'will', 'happen', 'in', 'the', 'future', 'if', 'you', 'use', 'the', 'choice.', 'why', 'seeking', 'multiple', 'opinions', 'can', 'help', 'someone', 'make', 'a', 'better', 'choice.', 'A', 'good', 'choice', 'help', 'someone', 'make', 'the', 'right', 'choice.', 'A', 'bad', 'choice', 'could', 'harm', 'th', 'eperson', 'in', 'the', 'future.', 'And', 'theyÃƒÂ‚Ã‚Â´re', 'also', 'some', 'choices', 'you', 'donÃƒÂ‚Ã‚Â´t', 'know', 'if', 'it', 'a', 'good', 'or', 'bad', 'choice.', 'And', 'at', 'the', 'end', 'of', 'the', 'day', 'the', 'person', 'always', 'make', 'the', 'choice', 'if', 'it', 'good', 'or', 'bad.'].__len__()\n",
    "['Why', 'seeking', 'multiple', 'opinions', 'can', 'help', 'someone', 'make', 'a', 'better', 'choice.', 'theyÃ', 'â\\x80¢e', 'good', 'choices', 'a', 'person', 'could', 'give', 'you', 'a', 'good', 'choice,', 'a', 'person', 'can', 'give', 'you', 'a', 'good', 'choice', 'because', 'that', 'something', 'they', 'would', 'do,', 'or', 'a', 'person', 'could', 'give', 'you', 'a', 'choice', 'that', 'will', 'help', 'you', 'in', 'the', 'future.', 'TheyÃ', 'â\\x80¢e', 'also', 'bad', 'choices', 'in', 'some', 'opinions.', 'A', 'person', 'can', 'say', 'do', 'the', 'wrong', 'choice,', 'a', 'person', 'can', 'say', 'a', 'bad', 'choice', 'they', 'would', 'have', 'did', 'in', 'the', 'situation,', 'or', 'person', 'could', 'just', 'give', 'you', 'a', 'bad', 'choice', 'that', 'will', 'harm', 'you', 'in', 'the', 'future.', 'And', 'they', 'are', 'choices', 'you', 'donÃ\\x82Â´t', 'know', 'about', 'if', 'it', 'a', 'good', 'or', 'bad', 'choice.', 'A', 'person', 'could', 'just', 'tell', 'you', 'a', 'choice', 'you', 'donÃ\\x82Â´t', 'know', 'about,', 'a', 'person', 'can', 'give', 'you', 'advice', 'some', 'they', 'wouldÃ\\x82Â´ve', 'done', 'in', 'the', 'situation,', 'or', 'a', 'person', 'can', 'give', 'you', 'a', 'choice', 'you', 'donÃ\\x82Â´t', 'know', 'what', 'will', 'happen', 'in', 'the', 'future', 'if', 'you', 'use', 'the', 'choice.', 'why', 'seeking', 'multiple', 'opinions', 'can', 'help', 'someone', 'make', 'a', 'better', 'choice.', 'A', 'good', 'choice', 'help', 'someone', 'make', 'the', 'right', 'choice.', 'A', 'bad', 'choice', 'could', 'harm', 'th', 'eperson', 'in', 'the', 'future.', 'And', 'theyÃ\\x82Â´re', 'also', 'some', 'choices', 'you', 'donÃ\\x82Â´t', 'know', 'if', 'it', 'a', 'good', 'or', 'bad', 'choice.', 'And', 'at', 'the', 'end', 'of', 'the', 'day', 'the', 'person', 'always', 'make', 'the', 'choice', 'if', 'it', 'good', 'or', 'bad.'].__len__()"
   ]
  },
  {
   "cell_type": "code",
   "execution_count": null,
   "metadata": {},
   "outputs": [],
   "source": []
  }
 ],
 "metadata": {
  "interpreter": {
   "hash": "f6ef06d6d1e6dca7920209e3ab24312428500e4d94d15cfc4063898dc2cb5145"
  },
  "kernelspec": {
   "display_name": "Python 3.8.10 64-bit ('venv': venv)",
   "language": "python",
   "name": "python3"
  },
  "language_info": {
   "codemirror_mode": {
    "name": "ipython",
    "version": 3
   },
   "file_extension": ".py",
   "mimetype": "text/x-python",
   "name": "python",
   "nbconvert_exporter": "python",
   "pygments_lexer": "ipython3",
   "version": "3.8.10"
  },
  "orig_nbformat": 4
 },
 "nbformat": 4,
 "nbformat_minor": 2
}
